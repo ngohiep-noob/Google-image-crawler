{
 "cells": [
  {
   "cell_type": "markdown",
   "metadata": {},
   "source": [
    "# Settings"
   ]
  },
  {
   "cell_type": "code",
   "execution_count": 103,
   "metadata": {},
   "outputs": [],
   "source": [
    "from google_image_crawler import GoogleImageCrawler\n",
    "import matplotlib.pyplot as plt\n",
    "import os\n",
    "import numpy as np"
   ]
  },
  {
   "cell_type": "code",
   "execution_count": 25,
   "metadata": {},
   "outputs": [],
   "source": [
    "data_path = \"landmark_images\"\n",
    "\n",
    "if not os.path.exists(data_path):\n",
    "    os.makedirs(data_path)"
   ]
  },
  {
   "cell_type": "code",
   "execution_count": 26,
   "metadata": {},
   "outputs": [
    {
     "data": {
      "text/plain": [
       "['Bai Dinh Pagoda',\n",
       " 'Ban Gioc waterfall',\n",
       " 'Bich Dong Pagoda',\n",
       " 'Fansipan Mountain',\n",
       " 'Ha Long Bay',\n",
       " 'Hoa Lu Ancient Capital',\n",
       " 'Hoan kiem lake',\n",
       " 'One-Pillar Pagoda',\n",
       " 'Phat Diem Cathedral',\n",
       " 'President Ho Chi Minh Mausoleum',\n",
       " 'Sapa Heaven Gate',\n",
       " 'Sapa Stone Church']"
      ]
     },
     "execution_count": 26,
     "metadata": {},
     "output_type": "execute_result"
    }
   ],
   "source": [
    "os.listdir(data_path)"
   ]
  },
  {
   "cell_type": "markdown",
   "metadata": {},
   "source": [
    "## Annotation"
   ]
  },
  {
   "cell_type": "code",
   "execution_count": 27,
   "metadata": {},
   "outputs": [],
   "source": [
    "# sample annotation\n",
    "anti_gnd_1_12 = {\n",
    "    \"Bai Dinh Pagoda\": [\n",
    "        16,\n",
    "        50,\n",
    "        48,\n",
    "        71,\n",
    "        74,\n",
    "        73,\n",
    "        153,\n",
    "        154,\n",
    "        170,\n",
    "        191,\n",
    "        194,\n",
    "    ],\n",
    "    \"Ban Gioc waterfall\": [115, 130, 157, 187],\n",
    "    \"Bich Dong Pagoda\": [\n",
    "        16,\n",
    "        19,\n",
    "        23,\n",
    "        33,\n",
    "        41,\n",
    "        54,\n",
    "        60,\n",
    "        51,\n",
    "        75,\n",
    "        101,\n",
    "        130,\n",
    "        139,\n",
    "        143,\n",
    "        153,\n",
    "        160,\n",
    "        164,\n",
    "        173,\n",
    "        177,\n",
    "        181,\n",
    "        183,\n",
    "        191,\n",
    "        194,\n",
    "        197,\n",
    "        198,\n",
    "        199,\n",
    "        180,\n",
    "        185,\n",
    "    ],\n",
    "    \"Fansipan Mountain\": [\n",
    "        1,\n",
    "        11,\n",
    "        12,\n",
    "        26,\n",
    "        28,\n",
    "        34,\n",
    "        37,\n",
    "        44,\n",
    "        40,\n",
    "        67,\n",
    "        77,\n",
    "        78,\n",
    "        84,\n",
    "        85,\n",
    "        89,\n",
    "        92,\n",
    "        90,\n",
    "        102,\n",
    "        106,\n",
    "        107,\n",
    "        117,\n",
    "        118,\n",
    "        121,\n",
    "        125,\n",
    "        126,\n",
    "        128,\n",
    "        134,\n",
    "        135,\n",
    "        140,\n",
    "        142,\n",
    "        145,\n",
    "        148,\n",
    "        150,\n",
    "        159,\n",
    "        163,\n",
    "        165,\n",
    "        168,\n",
    "        169,\n",
    "        170,\n",
    "        171,\n",
    "        173,\n",
    "        172,\n",
    "        174,\n",
    "        175,\n",
    "        178,\n",
    "        184,\n",
    "        180,\n",
    "        184,\n",
    "        189,\n",
    "        196,\n",
    "        197,\n",
    "        198,\n",
    "        192,\n",
    "    ],\n",
    "    \"Ha Long Bay\": [\n",
    "        20,\n",
    "        27,\n",
    "        46,\n",
    "        74,\n",
    "        84,\n",
    "        99,\n",
    "        104,\n",
    "        97,\n",
    "        147,\n",
    "        179,\n",
    "        184,\n",
    "        188,\n",
    "    ],\n",
    "    \"Hoa Lu Ancient Capital\": [\n",
    "        22,\n",
    "        24,\n",
    "        25,\n",
    "        29,\n",
    "        30,\n",
    "        32,\n",
    "        33,\n",
    "        34,\n",
    "        43,\n",
    "        49,\n",
    "        56,\n",
    "        68,\n",
    "        76,\n",
    "        86,\n",
    "        94,\n",
    "        109,\n",
    "        110,\n",
    "        111,\n",
    "        113,\n",
    "        115,\n",
    "        117,\n",
    "        123,\n",
    "        125,\n",
    "        127,\n",
    "        128,\n",
    "        129,\n",
    "        130,\n",
    "        144,\n",
    "        148,\n",
    "        151,\n",
    "        154,\n",
    "        164,\n",
    "        170,\n",
    "        173,\n",
    "        174,\n",
    "        177,\n",
    "        181,\n",
    "        183,\n",
    "        186,\n",
    "        184,\n",
    "    ],\n",
    "    \"Hoan kiem lake\": [\n",
    "        28,\n",
    "        29,\n",
    "        34,\n",
    "        31,\n",
    "        60,\n",
    "        63,\n",
    "        78,\n",
    "        98,\n",
    "        85,\n",
    "        102,\n",
    "        106,\n",
    "        117,\n",
    "        121,\n",
    "        122,\n",
    "        123,\n",
    "        129,\n",
    "        154,\n",
    "        155,\n",
    "        160,\n",
    "        161,\n",
    "        163,\n",
    "        168,\n",
    "        184,\n",
    "    ],\n",
    "    \"One-Pillar Pagoda\": [17, 67, 71, 111, 178, 171, 180],\n",
    "    \"Phat Diem Cathedral\": [50, 95, 128, 133, 134, 167, 187, 190],\n",
    "    \"Ho Chi Minh Mausoleum\": [\n",
    "        31,\n",
    "        32,\n",
    "        39,\n",
    "        54,\n",
    "        63,\n",
    "        66,\n",
    "        75,\n",
    "        81,\n",
    "        82,\n",
    "        87,\n",
    "        89,\n",
    "        91,\n",
    "        92,\n",
    "        95,\n",
    "        96,\n",
    "        97,\n",
    "        98,\n",
    "        105,\n",
    "        106,\n",
    "        109,\n",
    "        112,\n",
    "        115,\n",
    "        118,\n",
    "        121,\n",
    "        124,\n",
    "        126,\n",
    "        127,\n",
    "        131,\n",
    "        139,\n",
    "        140,\n",
    "        141,\n",
    "        142,\n",
    "        150,\n",
    "        154,\n",
    "        155,\n",
    "        159,\n",
    "        163,\n",
    "        164,\n",
    "        166,\n",
    "        167,\n",
    "        172,\n",
    "        173,\n",
    "        175,\n",
    "        177,\n",
    "        179,\n",
    "        183,\n",
    "        184,\n",
    "        185,\n",
    "        186,\n",
    "        187,\n",
    "        189,\n",
    "        190,\n",
    "        191,\n",
    "        192,\n",
    "        194,\n",
    "        195,\n",
    "        197,\n",
    "        199,\n",
    "    ],\n",
    "    \"Sapa Heaven Gate\": [\n",
    "        8,\n",
    "        17,\n",
    "        18,\n",
    "        19,\n",
    "        22,\n",
    "        23,\n",
    "        27,\n",
    "        28,\n",
    "        29,\n",
    "        31,\n",
    "        32,\n",
    "        33,\n",
    "        34,\n",
    "        37,\n",
    "        39,\n",
    "        42,\n",
    "        43,\n",
    "        47,\n",
    "        49,\n",
    "        53,\n",
    "        54,\n",
    "        55,\n",
    "        56,\n",
    "        57,\n",
    "        58,\n",
    "        59,\n",
    "        60,\n",
    "        61,\n",
    "        62,\n",
    "        65,\n",
    "        66,\n",
    "        67,\n",
    "        68,\n",
    "        69,\n",
    "        72,\n",
    "        73,\n",
    "        78,\n",
    "        79,\n",
    "        80,\n",
    "        81,\n",
    "        82,\n",
    "        83,\n",
    "        84,\n",
    "        87,\n",
    "        90,\n",
    "        91,\n",
    "        92,\n",
    "        93,\n",
    "        94,\n",
    "        97,\n",
    "        98,\n",
    "        99,\n",
    "        101,\n",
    "        102,\n",
    "        104,\n",
    "        105,\n",
    "        106,\n",
    "        107,\n",
    "        108,\n",
    "        109,\n",
    "        110,\n",
    "        111,\n",
    "        112,\n",
    "        113,\n",
    "        114,\n",
    "        115,\n",
    "        116,\n",
    "        117,\n",
    "        119,\n",
    "        120,\n",
    "        122,\n",
    "        125,\n",
    "        126,\n",
    "        128,\n",
    "        129,\n",
    "        130,\n",
    "        132,\n",
    "        133,\n",
    "        134,\n",
    "        135,\n",
    "        136,\n",
    "        137,\n",
    "        138,\n",
    "        139,\n",
    "        141,\n",
    "        142,\n",
    "        143,\n",
    "        146,\n",
    "        147,\n",
    "        148,\n",
    "        150,\n",
    "        152,\n",
    "        153,\n",
    "        155,\n",
    "        156,\n",
    "        157,\n",
    "        158,\n",
    "        159,\n",
    "        160,\n",
    "        162,\n",
    "        163,\n",
    "        164,\n",
    "        165,\n",
    "        166,\n",
    "        168,\n",
    "        169,\n",
    "        171,\n",
    "        172,\n",
    "        173,\n",
    "        174,\n",
    "        175,\n",
    "        177,\n",
    "        178,\n",
    "        179,\n",
    "        180,\n",
    "        181,\n",
    "        182,\n",
    "        183,\n",
    "        184,\n",
    "        185,\n",
    "        186,\n",
    "        187,\n",
    "        188,\n",
    "        189,\n",
    "        190,\n",
    "        191,\n",
    "        192,\n",
    "        193,\n",
    "        194,\n",
    "        195,\n",
    "        196,\n",
    "        197,\n",
    "        198,\n",
    "        199,\n",
    "    ],\n",
    "    \"Sapa Stone Church\": [34, 136, 161, 177],\n",
    "}"
   ]
  },
  {
   "cell_type": "code",
   "execution_count": 29,
   "metadata": {},
   "outputs": [],
   "source": [
    "query_1_12 = {\n",
    "    \"Bai Dinh Pagoda\": [0, 8, 2, 6, 77],\n",
    "    \"Ban Gioc waterfall\": [0, 75, 95, 114, 131],\n",
    "    \"Bich Dong Pagoda\": [12, 24, 29, 18, 144],\n",
    "    \"Fansipan Mountain\": [2, 3, 8, 136, 195],\n",
    "    \"Ha Long Bay\": [2, 3, 4, 5, 6],\n",
    "    \"Hoa Lu Ancient Capital\": [7, 8, 9, 20, 23],\n",
    "    \"Hoan kiem lake\": [6, 7, 8, 9, 11],\n",
    "    \"One-Pillar Pagoda\": [1, 14, 15, 46, 47],\n",
    "    \"Phat Diem Cathedral\": [0, 1, 6, 41, 54],\n",
    "    \"Ho Chi Minh Mausoleum\": [11, 12, 14, 17, 44],\n",
    "    \"Sapa Heaven Gate\": [1, 2, 3, 11, 14],\n",
    "    \"Sapa Stone Church\": [41, 42, 44, 49, 47],\n",
    "}"
   ]
  },
  {
   "cell_type": "code",
   "execution_count": 31,
   "metadata": {},
   "outputs": [],
   "source": [
    "import pickle\n",
    "\n",
    "\n",
    "def save_dict(dict, file_path):\n",
    "    with open(file_path, \"wb\") as f:\n",
    "        pickle.dump(dict, f)\n",
    "\n",
    "\n",
    "def load_dict(file_path):\n",
    "    with open(file_path, \"rb\") as f:\n",
    "        return pickle.load(f)"
   ]
  },
  {
   "cell_type": "code",
   "execution_count": 32,
   "metadata": {},
   "outputs": [],
   "source": [
    "save_dict(anti_gnd_1_12, file_path=\"annotation/anti_gnd_1-12.pkl\")"
   ]
  },
  {
   "cell_type": "code",
   "execution_count": 33,
   "metadata": {},
   "outputs": [],
   "source": [
    "save_dict(query_1_12, file_path=\"annotation/query_1-12.pkl\")"
   ]
  },
  {
   "cell_type": "markdown",
   "metadata": {},
   "source": [
    "## Load annotation"
   ]
  },
  {
   "cell_type": "code",
   "execution_count": 82,
   "metadata": {},
   "outputs": [],
   "source": [
    "not_ground_truth = load_dict(file_path=\"annotation/anti_gnd_1-12.pkl\")\n",
    "\n",
    "query = load_dict(file_path=\"annotation/query_1-12.pkl\")"
   ]
  },
  {
   "cell_type": "code",
   "execution_count": 83,
   "metadata": {},
   "outputs": [],
   "source": [
    "landmarks = list(query.keys())"
   ]
  },
  {
   "cell_type": "code",
   "execution_count": 84,
   "metadata": {},
   "outputs": [],
   "source": [
    "imlist = dict()\n",
    "\n",
    "for key in landmarks:\n",
    "    imlist[key] = []\n",
    "    for filename in os.listdir(os.path.join(data_path, key)):\n",
    "        file_idx = int(filename.split(\".\")[0])\n",
    "        # select only jpg files not in query set\n",
    "        if filename.endswith(\".jpg\") and file_idx not in query[key]:\n",
    "            imlist[key].append(filename)"
   ]
  },
  {
   "cell_type": "code",
   "execution_count": 91,
   "metadata": {},
   "outputs": [],
   "source": [
    "ground_truth = dict()\n",
    "\n",
    "for key in landmarks:\n",
    "    ground_truth[key] = []\n",
    "    for filename in os.listdir(os.path.join(data_path, key)):\n",
    "        file_idx = int(filename.split(\".\")[0])\n",
    "        # select only jpg files in ground truth set\n",
    "        if (\n",
    "            filename.endswith(\".jpg\")\n",
    "            and file_idx not in not_ground_truth[key]\n",
    "            and file_idx not in query[key]\n",
    "        ):\n",
    "            ground_truth[key].append(filename)"
   ]
  },
  {
   "cell_type": "code",
   "execution_count": 92,
   "metadata": {},
   "outputs": [
    {
     "data": {
      "image/png": "[encoded data removed]",
      "text/plain": [
       "<Figure size 640x480 with 1 Axes>"
      ]
     },
     "metadata": {},
     "output_type": "display_data"
    }
   ],
   "source": [
    "# Get the lengths of each value in imlist\n",
    "lengths = [len(value) for value in imlist.values()]\n",
    "\n",
    "# Get the keys of imlist\n",
    "keys = list(imlist.keys())\n",
    "\n",
    "# Plot the horizontal bar chart\n",
    "plt.barh(keys, lengths)\n",
    "plt.xlabel(\"Length\")\n",
    "plt.ylabel(\"Lankmarks\")\n",
    "plt.title(\"Size of dataset\")\n",
    "\n",
    "# Add length numbers at the tip of each bar\n",
    "for i, v in enumerate(lengths):\n",
    "    plt.text(v, i, str(v), color=\"blue\", va=\"center\")\n",
    "\n",
    "plt.show()"
   ]
  },
  {
   "cell_type": "code",
   "execution_count": 93,
   "metadata": {},
   "outputs": [
    {
     "data": {
      "image/png": "[encoded data removed]",
      "text/plain": [
       "<Figure size 640x480 with 1 Axes>"
      ]
     },
     "metadata": {},
     "output_type": "display_data"
    }
   ],
   "source": [
    "lengths = [len(value) for value in ground_truth.values()]\n",
    "\n",
    "plt.barh(keys, lengths)\n",
    "plt.title(\"Size of ground truth\")\n",
    "\n",
    "for i, v in enumerate(lengths):\n",
    "    plt.text(v, i, str(v), color=\"blue\", va=\"center\")\n",
    "\n",
    "plt.show()"
   ]
  },
  {
   "cell_type": "markdown",
   "metadata": {},
   "source": [
    "## Single-shot fetching\n"
   ]
  },
  {
   "cell_type": "code",
   "execution_count": 4,
   "metadata": {},
   "outputs": [
    {
     "name": "stdout",
     "output_type": "stream",
     "text": [
      "Chrome driver is initialized.\n"
     ]
    }
   ],
   "source": [
    "crawler = GoogleImageCrawler()"
   ]
  },
  {
   "cell_type": "code",
   "execution_count": 5,
   "metadata": {},
   "outputs": [],
   "source": [
    "keyword = \"cổng trời sapa\""
   ]
  },
  {
   "cell_type": "code",
   "execution_count": 6,
   "metadata": {},
   "outputs": [
    {
     "data": {
      "text/plain": [
       "200"
      ]
     },
     "execution_count": 6,
     "metadata": {},
     "output_type": "execute_result"
    }
   ],
   "source": [
    "urls = crawler.get_img_urls_from_keyword(keyword, scroll_num=2)\n",
    "\n",
    "len(urls)"
   ]
  },
  {
   "cell_type": "code",
   "execution_count": 7,
   "metadata": {},
   "outputs": [
    {
     "name": "stdout",
     "output_type": "stream",
     "text": [
      "Path \"data/cổng trời sapa\" does not exist, a new folder is created!\n",
      "Saved 200 images to \"data/cổng trời sapa\"\n"
     ]
    }
   ],
   "source": [
    "crawler.save_images(urls, save_path=f\"data/{keyword}\")"
   ]
  },
  {
   "cell_type": "code",
   "execution_count": 8,
   "metadata": {},
   "outputs": [
    {
     "name": "stdout",
     "output_type": "stream",
     "text": [
      "Chrome driver is terminated.\n"
     ]
    }
   ],
   "source": [
    "crawler.terminate()"
   ]
  },
  {
   "cell_type": "markdown",
   "metadata": {},
   "source": [
    "## Bulk fetching"
   ]
  },
  {
   "cell_type": "code",
   "execution_count": 28,
   "metadata": {},
   "outputs": [
    {
     "name": "stdout",
     "output_type": "stream",
     "text": [
      "Chrome driver is initialized.\n"
     ]
    }
   ],
   "source": [
    "crawler = GoogleImageCrawler()"
   ]
  },
  {
   "cell_type": "code",
   "execution_count": 29,
   "metadata": {},
   "outputs": [],
   "source": [
    "keywords = [\n",
    "    \"Phat Diem Cathedral\",\n",
    "]"
   ]
  },
  {
   "cell_type": "code",
   "execution_count": 30,
   "metadata": {},
   "outputs": [
    {
     "name": "stdout",
     "output_type": "stream",
     "text": [
      "Path \"data/Phat Diem Cathedral\" does not exist, a new folder is created!\n",
      "Saved 200 images to \"data/Phat Diem Cathedral\"\n",
      "Chrome driver is terminated.\n"
     ]
    }
   ],
   "source": [
    "for keyword in keywords:\n",
    "    urls = crawler.get_img_urls_from_keyword(keyword, scroll_num=2)\n",
    "    crawler.save_images(urls, save_path=f\"{data_path}/{keyword}\")\n",
    "\n",
    "crawler.terminate()"
   ]
  },
  {
   "cell_type": "code",
   "execution_count": null,
   "metadata": {},
   "outputs": [],
   "source": []
  }
 ],
 "metadata": {
  "kernelspec": {
   "display_name": "Python 3",
   "language": "python",
   "name": "python3"
  },
  "language_info": {
   "codemirror_mode": {
    "name": "ipython",
    "version": 3
   },
   "file_extension": ".py",
   "mimetype": "text/x-python",
   "name": "python",
   "nbconvert_exporter": "python",
   "pygments_lexer": "ipython3",
   "version": "3.11.6"
  }
 },
 "nbformat": 4,
 "nbformat_minor": 2
}
